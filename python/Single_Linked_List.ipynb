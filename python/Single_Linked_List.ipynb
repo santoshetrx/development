{
 "cells": [
  {
   "cell_type": "markdown",
   "metadata": {},
   "source": [
    "# Single Linked List"
   ]
  },
  {
   "cell_type": "code",
   "execution_count": 24,
   "metadata": {},
   "outputs": [],
   "source": [
    "class Node:\n",
    "    def __init__(self, dataval=None):\n",
    "        self.dataval = dataval\n",
    "        self.nextval = None\n",
    "\n",
    "class SLinkedList:\n",
    "    \n",
    "    def __init__(self):\n",
    "        self.headval = None\n",
    "        \n",
    "    def listprint(self):\n",
    "        print()\n",
    "        printval = self.headval\n",
    "        while printval is not None:\n",
    "            print(printval.dataval)\n",
    "            printval = printval.nextval\n",
    "    \n",
    "    def listaddbegin(self, val):\n",
    "        newNode = Node(val)\n",
    "        newNode.nextval = self.headval\n",
    "        self.headval = newNode\n",
    "        \n",
    "    def listaddend(self, val):\n",
    "        newNode = Node(val)       \n",
    "        printval = self.headval\n",
    "        while printval.nextval is not None:\n",
    "            printval = printval.nextval\n",
    "        \n",
    "        printval.nextval = newNode\n"
   ]
  },
  {
   "cell_type": "code",
   "execution_count": 25,
   "metadata": {},
   "outputs": [
    {
     "name": "stdout",
     "output_type": "stream",
     "text": [
      "\n",
      "Mon\n",
      "Tue\n",
      "Wed\n",
      "\n",
      "test\n",
      "Mon\n",
      "Tue\n",
      "Wed\n"
     ]
    }
   ],
   "source": [
    "list1 = SLinkedList()\n",
    "list1.headval = Node('Mon')\n",
    "e2 = Node('Tue')\n",
    "e3 = Node('Wed')\n",
    "\n",
    "# Link second Node to third node\n",
    "list1.headval.nextval = e2\n",
    "\n",
    "# Link second Node to third node\n",
    "e2.nextval = e3\n",
    "\n",
    "# Printing Single Linked List \n",
    "list1.listprint()\n",
    "\n",
    "list1.listaddbegin('test')\n",
    "\n",
    "list1.listprint()"
   ]
  },
  {
   "cell_type": "code",
   "execution_count": 26,
   "metadata": {},
   "outputs": [],
   "source": [
    "\n",
    "list1.listaddend('testend')"
   ]
  },
  {
   "cell_type": "code",
   "execution_count": 27,
   "metadata": {},
   "outputs": [
    {
     "name": "stdout",
     "output_type": "stream",
     "text": [
      "\n",
      "test\n",
      "Mon\n",
      "Tue\n",
      "Wed\n",
      "testend\n"
     ]
    }
   ],
   "source": [
    "list1.listprint()"
   ]
  },
  {
   "cell_type": "code",
   "execution_count": null,
   "metadata": {},
   "outputs": [],
   "source": []
  }
 ],
 "metadata": {
  "kernelspec": {
   "display_name": "Python 3",
   "language": "python",
   "name": "python3"
  },
  "language_info": {
   "codemirror_mode": {
    "name": "ipython",
    "version": 3
   },
   "file_extension": ".py",
   "mimetype": "text/x-python",
   "name": "python",
   "nbconvert_exporter": "python",
   "pygments_lexer": "ipython3",
   "version": "3.6.5"
  }
 },
 "nbformat": 4,
 "nbformat_minor": 2
}
